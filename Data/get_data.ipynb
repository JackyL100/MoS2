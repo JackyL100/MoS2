{
 "cells": [
  {
   "cell_type": "markdown",
   "id": "5ce3230e",
   "metadata": {},
   "source": [
    "Get images and masks from labelbox and organize them into folders for learning"
   ]
  },
  {
   "cell_type": "code",
   "execution_count": null,
   "id": "4190cb68",
   "metadata": {},
   "outputs": [],
   "source": [
    "import numpy as np\n",
    "import pandas as pd\n",
    "import matplotlib.pyplot as plt\n",
    "import requests\n",
    "import torch\n",
    "import labelbox\n",
    "import io\n",
    "import config"
   ]
  },
  {
   "cell_type": "markdown",
   "id": "fa50bd02",
   "metadata": {},
   "source": [
    "Get image urls from labelbox"
   ]
  },
  {
   "cell_type": "code",
   "execution_count": null,
   "id": "3d869997",
   "metadata": {},
   "outputs": [],
   "source": [
    "\n",
    "\n",
    "LB_API_KEY = config.API_KEY\n",
    "\n",
    "client = labelbox.Client(api_key = LB_API_KEY)\n",
    "export_task = labelbox.ExportTask.get_task(client, \"cmbe4ydyf0f6w07z360s3c52b\")\n",
    "\n",
    "# Stream the export using a callback function\n",
    "def json_stream_handler(output: labelbox.BufferedJsonConverterOutput):\n",
    "  print(output.json)\n",
    "\n",
    "export_task.get_buffered_stream(stream_type=labelbox.StreamType.RESULT).start(stream_handler=json_stream_handler)\n",
    "\n",
    "# Simplified usage\n",
    "export_json = [data_row.json for data_row in export_task.get_buffered_stream()]"
   ]
  },
  {
   "cell_type": "code",
   "execution_count": null,
   "id": "e8f30472",
   "metadata": {},
   "outputs": [],
   "source": [
    "import json\n",
    "print(json.dumps(export_json[27], indent=4))"
   ]
  },
  {
   "cell_type": "markdown",
   "id": "911acd0b",
   "metadata": {},
   "source": [
    "Get images from labelbox and put them into their respective folders"
   ]
  },
  {
   "cell_type": "code",
   "execution_count": 22,
   "id": "455590b4",
   "metadata": {},
   "outputs": [],
   "source": [
    "color_mapping = {\n",
    "    'Mono': (60, 28, 255),\n",
    "    'Bi': (73, 255, 52),\n",
    "    'Tri': (255, 70, 70),\n",
    "    'Four': (7, 255, 251),\n",
    "    'Bulk': (88, 88, 88)\n",
    "}"
   ]
  },
  {
   "cell_type": "markdown",
   "id": "e8972523",
   "metadata": {},
   "source": [
    "For each mask, map it to the correct color and stack them to get the composite mask "
   ]
  },
  {
   "cell_type": "code",
   "execution_count": null,
   "id": "d79278e0",
   "metadata": {},
   "outputs": [],
   "source": [
    "def create_composite_mask(json_, id_):\n",
    "    filename = json_['data_row']['external_id']\n",
    "    filename = str(id_) + \"_\" + filename\n",
    "    maskname = filename[:-3] + 'png'\n",
    "    objects = json_['projects']['cm9alt6k4001y07ycbgnc02dg']['labels'][0]['annotations']['objects']\n",
    "    num_masks = len(objects)\n",
    "    masks = [np.zeros((588,780,3)) for i in range(num_masks)]\n",
    "    for i in range(num_masks):\n",
    "        try:\n",
    "            mask_url = objects[i][\"mask\"][\"url\"]\n",
    "            mask_data = requests.get(mask_url, headers={\"Authorization\": f\"Bearer {LB_API_KEY}\"}).content\n",
    "            mask_im = Image.open(io.BytesIO(mask_data))\n",
    "            layer_color = color_mapping[objects[i]['name']]\n",
    "            mask = np.array(mask_im)\n",
    "            masks[i][mask == 255] = layer_color\n",
    "            masks[i] /= 255\n",
    "        except Image.UnidentifiedImageError:\n",
    "            continue\n",
    "    mask = np.zeros((588, 780, 3))\n",
    "    for m in masks:\n",
    "        mask += m\n",
    "    img = Image.fromarray((mask * 255).astype(np.uint8))\n",
    "    img.save(f\"Image Segmentation Data/masks/{maskname}\")\n",
    "    return img"
   ]
  },
  {
   "cell_type": "code",
   "execution_count": null,
   "id": "d3c9d95b",
   "metadata": {},
   "outputs": [],
   "source": [
    "import requests\n",
    "import os\n",
    "\n",
    "os.makedirs(\"Image Segmentation Data/images\", exist_ok=True)\n",
    "os.makedirs(\"Image Segmentation Data/masks\", exist_ok=True)\n",
    "\n",
    "img_id = 1\n",
    "for img in export_json:\n",
    "    try:\n",
    "        mask_url = img['projects']['cm9alt6k4001y07ycbgnc02dg']['labels'][0]['annotations']['objects'][0]['composite_mask']['url']\n",
    "        filename = img['data_row']['external_id']\n",
    "        original_url = img['data_row']['row_data']\n",
    "    except IndexError:\n",
    "        continue\n",
    "    img_data = requests.get(original_url).content\n",
    "    try:\n",
    "        create_composite_mask(img, img_id)\n",
    "    except Image.UnidentifiedImageError:\n",
    "        print(json.dumps(img, indent=4))\n",
    "        break\n",
    "    filename = str(img_id) + \"_\" + filename\n",
    "    with open(f\"Image Segmentation Data/images/{filename}\", 'wb') as handler:\n",
    "        handler.write(img_data)\n",
    "\n",
    "    img_id += 1"
   ]
  },
  {
   "cell_type": "code",
   "execution_count": 8,
   "id": "2b24a4ce",
   "metadata": {},
   "outputs": [
    {
     "data": {
      "text/plain": [
       "'https://api.labelbox.com/api/v1/tasks/cmbe4ydyf0f6w07z360s3c52b/masks/cmaa7c3ds000500i9zz8f2s2m/index/1'"
      ]
     },
     "execution_count": 8,
     "metadata": {},
     "output_type": "execute_result"
    }
   ],
   "source": [
    "export_json[25]['projects']['cm9alt6k4001y07ycbgnc02dg']['labels'][0]['annotations']['objects'][0]['composite_mask']['url']"
   ]
  },
  {
   "cell_type": "markdown",
   "id": "75927db5",
   "metadata": {},
   "source": [
    "Create segmented images by overlaying mask on original "
   ]
  },
  {
   "cell_type": "code",
   "execution_count": 99,
   "id": "bb6cfc2d",
   "metadata": {},
   "outputs": [],
   "source": [
    "from PIL import Image\n",
    "\n",
    "os.makedirs(\"Image Segmentation Data/segmented\", exist_ok=True)\n",
    "\n",
    "\n",
    "for m in os.scandir(\"Image Segmentation Data/masks\"):\n",
    "    for o in os.scandir(\"Image Segmentation Data/images\"):\n",
    "        if m.name[:-3] != o.name[:-3]:\n",
    "            continue\n",
    "        original = Image.open(\"Image Segmentation Data/images/\" + o.name)\n",
    "\n",
    "        mask = Image.open(\"Image Segmentation Data/masks/\" + m.name)\n",
    "\n",
    "        image_np = np.array(original)\n",
    "        mask_np = np.array(mask)\n",
    "\n",
    "        overlay = np.where(mask_np[:,:,:] > 0, mask_np[:,:,:],\n",
    "                        image_np)\n",
    "        overlay = Image.fromarray(overlay)\n",
    "        overlay.save(\"Image Segmentation Data/segmented/\" + o.name)"
   ]
  },
  {
   "cell_type": "code",
   "execution_count": null,
   "id": "04969cd3",
   "metadata": {},
   "outputs": [],
   "source": []
  }
 ],
 "metadata": {
  "kernelspec": {
   "display_name": "semiconductor_kernel",
   "language": "python",
   "name": "semiconductor_kernel"
  },
  "language_info": {
   "codemirror_mode": {
    "name": "ipython",
    "version": 3
   },
   "file_extension": ".py",
   "mimetype": "text/x-python",
   "name": "python",
   "nbconvert_exporter": "python",
   "pygments_lexer": "ipython3",
   "version": "3.12.4"
  }
 },
 "nbformat": 4,
 "nbformat_minor": 5
}
