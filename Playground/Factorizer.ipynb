{
 "cells": [
  {
   "cell_type": "markdown",
   "id": "f3d8e9e0",
   "metadata": {},
   "source": [
    "@article{ashtari2023factorizer,\n",
    "  title     = {Factorizer: A scalable interpretable approach to context modeling for medical image segmentation},\n",
    "  author    = {Ashtari, Pooya and Sima, Diana M and De Lathauwer, Lieven and Sappey-Marinier, Dominique and Maes, Frederik and Van Huffel, Sabine},\n",
    "  journal   = {Medical image analysis},\n",
    "  publisher = {Elsevier},\n",
    "  year      = {2023},\n",
    "  issn      = {1361-8415},\n",
    "  doi       = {https://doi.org/10.1016/j.media.2022.102706},\n",
    "  pages     = {102706},\n",
    "  volume    = {84},\n",
    "\n",
    "}"
   ]
  },
  {
   "cell_type": "code",
   "execution_count": 1,
   "id": "55842a84",
   "metadata": {},
   "outputs": [],
   "source": [
    "import torch\n",
    "from torch import nn\n",
    "import numpy as np\n",
    "import matplotlib.pyplot as plt\n",
    "import torch.nn.functional as F\n",
    "import torchvision.transforms as T\n",
    "from torch.quantization import QuantStub, DeQuantStub\n",
    "import factorizer as ft\n",
    "from get_factorizer_dataset import get_dataloader\n",
    "from tqdm import tqdm\n",
    "import time\n",
    "from IPython.display import clear_output"
   ]
  },
  {
   "cell_type": "code",
   "execution_count": 2,
   "id": "5a031387",
   "metadata": {},
   "outputs": [],
   "source": [
    "train, test = get_dataloader('denoised', 1)"
   ]
  },
  {
   "cell_type": "code",
   "execution_count": 3,
   "id": "247c5a80",
   "metadata": {},
   "outputs": [],
   "source": [
    "device = torch.device('mps') if torch.backends.mps.is_available() else torch.device('cpu')"
   ]
  },
  {
   "cell_type": "code",
   "execution_count": 4,
   "id": "5dd92912",
   "metadata": {},
   "outputs": [],
   "source": [
    "swin_factorizer = ft.Factorizer(\n",
    "    in_channels=3,\n",
    "    out_channels=6,\n",
    "    spatial_size=(576, 768),\n",
    "    encoder_depth=(1, 1, 1),\n",
    "    encoder_width=(12, 24, 36),\n",
    "    strides=(1, 2, 2, 2, 2),\n",
    "    decoder_depth=(1, 1),\n",
    "    norm=ft.LayerNorm,\n",
    "    reshape=(ft.SWMatricize, {'head_dim': 4, 'patch_size': 4}),\n",
    "    act=nn.ReLU,\n",
    "    factorize=ft.NMF,\n",
    "    rank=1,\n",
    "    num_iters=5,\n",
    "    init=\"uniform\",\n",
    "    solver=\"hals\",\n",
    "    mlp_ratio=2,\n",
    "    dropout=0.1,\n",
    "    num_deep_supr=True\n",
    ")\n",
    "\n",
    "swin_factorizer = swin_factorizer.to(device)"
   ]
  },
  {
   "cell_type": "code",
   "execution_count": 5,
   "id": "79e5afab",
   "metadata": {},
   "outputs": [
    {
     "name": "stdout",
     "output_type": "stream",
     "text": [
      "torch.Size([1, 6, 576, 768])\n",
      "torch.Size([1, 6, 288, 384])\n",
      "torch.Size([1, 6, 144, 192])\n"
     ]
    }
   ],
   "source": [
    "with torch.no_grad():\n",
    "    o = swin_factorizer(torch.randn((1,3,576,768)).to(device))\n",
    "    for thing in o:\n",
    "        print(thing.shape)"
   ]
  },
  {
   "cell_type": "code",
   "execution_count": 6,
   "id": "0f29ac1c",
   "metadata": {},
   "outputs": [],
   "source": [
    "def soft_dice_loss(y_pred, y_true, axis=(1, 2), \n",
    "                   epsilon=0.00001):\n",
    "    \"\"\"\n",
    "    Compute mean soft dice loss over all abnormality classes.\n",
    "\n",
    "    Args:\n",
    "        y_true (Pytorch tensor): tensor of ground truth values for all classes.\n",
    "                                    shape: (num_classes, x_dim, y_dim, z_dim)\n",
    "        y_pred (Pytorch tensor): tensor of soft predictions for all classes.\n",
    "                                    shape: (num_classes, x_dim, y_dim, z_dim)\n",
    "        axis (tuple): spatial axes to sum over when computing numerator and\n",
    "                      denominator in formula for dice loss.\n",
    "                      Hint: pass this as the 'axis' argument to the K.sum\n",
    "                            and K.mean functions.\n",
    "        epsilon (float): small constant added to numerator and denominator to\n",
    "                        avoid divide by 0 errors.\n",
    "    Returns:\n",
    "        dice_loss (float): computed value of dice loss.     \n",
    "    \"\"\"\n",
    "\n",
    "    ### START CODE HERE (REPLACE INSTANCES OF 'None' with your code) ###\n",
    "    dice_numerator = 2. * torch.sum(y_true * y_pred, dim=axis) + epsilon\n",
    "    dice_denominator = torch.sum(y_true**2, dim=axis) + torch.sum(y_pred**2, dim=axis) + epsilon\n",
    "    dice_loss = 1 - torch.mean((dice_numerator)/(dice_denominator))\n",
    "\n",
    "\n",
    "    ### END CODE HERE ###\n",
    "\n",
    "    return dice_loss"
   ]
  },
  {
   "cell_type": "code",
   "execution_count": 7,
   "id": "9ad4cbf1",
   "metadata": {},
   "outputs": [],
   "source": [
    "dice = soft_dice_loss\n",
    "CE = nn.CrossEntropyLoss()\n",
    "pool = nn.MaxPool2d((2,2), 2)\n",
    "\n",
    "def factorizer_loss(preds, mask):\n",
    "    loss = 0\n",
    "    loss_coeff = [1.0, 0.5, 0.25]\n",
    "    i = 0\n",
    "    for pred in preds:\n",
    "        loss += loss_coeff[i] * (dice(pred, mask) + CE(pred, mask))\n",
    "        mask = pool(mask)\n",
    "        i += 1\n",
    "\n",
    "    return loss"
   ]
  },
  {
   "cell_type": "code",
   "execution_count": null,
   "id": "1dd8a598",
   "metadata": {},
   "outputs": [],
   "source": [
    "def train_factorizer(model, loader, criterion, optimizer, num_epochs=10, yscale=None):\n",
    "    model.train()\n",
    "    losses = []\n",
    "    for epoch in tqdm(range(num_epochs)):\n",
    "        epoch_loss = 0.0\n",
    "        for batch in loader:\n",
    "            images, masks, _ = batch\n",
    "            segmented = model(images)\n",
    "            loss = criterion(segmented, masks)\n",
    "            optimizer.zero_grad()\n",
    "            loss.backward()\n",
    "            optimizer.step()\n",
    "            epoch_loss += loss.detach().item()\n",
    "        losses.append(epoch_loss)\n",
    "        clear_output(wait=True)\n",
    "        plt.plot(losses)\n",
    "        if (yscale == 'log'):\n",
    "            plt.yscale('log')  # Logarithmic y-axis\n",
    "            plt.title('Train Loss (Log Scale) over Epochs')\n",
    "            plt.ylabel('Train Loss (log)')\n",
    "        else:\n",
    "            plt.title('Train Loss over Epochs')\n",
    "            plt.ylabel('Train Loss')\n",
    "        plt.xlabel('Epoch')\n",
    "        \n",
    "        plt.grid(True)\n",
    "        plt.legend()\n",
    "        plt.show()\n",
    "                "
   ]
  },
  {
   "cell_type": "code",
   "execution_count": 9,
   "id": "8734d07e",
   "metadata": {},
   "outputs": [
    {
     "name": "stdout",
     "output_type": "stream",
     "text": [
      "model size: 3.907MB\n"
     ]
    }
   ],
   "source": [
    "param_size = 0\n",
    "for param in swin_factorizer.parameters():\n",
    "    param_size += param.nelement() * param.element_size()\n",
    "buffer_size = 0\n",
    "for buffer in swin_factorizer.buffers():\n",
    "    buffer_size += buffer.nelement() * buffer.element_size()\n",
    "\n",
    "size_all_mb = (param_size + buffer_size) / 1024**2\n",
    "print('model size: {:.3f}MB'.format(size_all_mb))"
   ]
  },
  {
   "cell_type": "code",
   "execution_count": 10,
   "id": "489bce69",
   "metadata": {},
   "outputs": [],
   "source": [
    "optimizer = torch.optim.AdamW(swin_factorizer.parameters(), lr=1e-4, weight_decay=1e-2)"
   ]
  },
  {
   "cell_type": "code",
   "execution_count": 11,
   "id": "8e787301",
   "metadata": {},
   "outputs": [
    {
     "data": {
      "image/png": "[encoded data removed]",
      "text/plain": [
       "<Figure size 640x480 with 1 Axes>"
      ]
     },
     "metadata": {},
     "output_type": "display_data"
    },
    {
     "name": "stderr",
     "output_type": "stream",
     "text": [
      "  4%|▍         | 2/50 [01:18<31:15, 39.07s/it]\n"
     ]
    },
    {
     "ename": "KeyboardInterrupt",
     "evalue": "",
     "output_type": "error",
     "traceback": [
      "\u001b[0;31m---------------------------------------------------------------------------\u001b[0m",
      "\u001b[0;31mKeyboardInterrupt\u001b[0m                         Traceback (most recent call last)",
      "Cell \u001b[0;32mIn[11], line 1\u001b[0m\n\u001b[0;32m----> 1\u001b[0m \u001b[43mtrain_factorizer\u001b[49m\u001b[43m(\u001b[49m\u001b[43mswin_factorizer\u001b[49m\u001b[43m,\u001b[49m\u001b[43m \u001b[49m\u001b[43mtrain\u001b[49m\u001b[43m,\u001b[49m\u001b[43m \u001b[49m\u001b[43mfactorizer_loss\u001b[49m\u001b[43m,\u001b[49m\u001b[43m \u001b[49m\u001b[43moptimizer\u001b[49m\u001b[43m,\u001b[49m\u001b[43m \u001b[49m\u001b[43mnum_epochs\u001b[49m\u001b[38;5;241;43m=\u001b[39;49m\u001b[38;5;241;43m50\u001b[39;49m\u001b[43m)\u001b[49m\n",
      "Cell \u001b[0;32mIn[8], line 9\u001b[0m, in \u001b[0;36mtrain_factorizer\u001b[0;34m(model, loader, criterion, optimizer, num_epochs, yscale)\u001b[0m\n\u001b[1;32m      7\u001b[0m images, masks, _ \u001b[38;5;241m=\u001b[39m batch\n\u001b[1;32m      8\u001b[0m segmented \u001b[38;5;241m=\u001b[39m model(images)\n\u001b[0;32m----> 9\u001b[0m loss \u001b[38;5;241m=\u001b[39m \u001b[43mcriterion\u001b[49m\u001b[43m(\u001b[49m\u001b[43msegmented\u001b[49m\u001b[43m,\u001b[49m\u001b[43m \u001b[49m\u001b[43mmasks\u001b[49m\u001b[43m)\u001b[49m\n\u001b[1;32m     10\u001b[0m optimizer\u001b[38;5;241m.\u001b[39mzero_grad()\n\u001b[1;32m     11\u001b[0m loss\u001b[38;5;241m.\u001b[39mbackward()\n",
      "Cell \u001b[0;32mIn[7], line 10\u001b[0m, in \u001b[0;36mfactorizer_loss\u001b[0;34m(preds, mask)\u001b[0m\n\u001b[1;32m      8\u001b[0m i \u001b[38;5;241m=\u001b[39m \u001b[38;5;241m0\u001b[39m\n\u001b[1;32m      9\u001b[0m \u001b[38;5;28;01mfor\u001b[39;00m pred \u001b[38;5;129;01min\u001b[39;00m preds:\n\u001b[0;32m---> 10\u001b[0m     loss \u001b[38;5;241m+\u001b[39m\u001b[38;5;241m=\u001b[39m loss_coeff[i] \u001b[38;5;241m*\u001b[39m (\u001b[43mdice\u001b[49m\u001b[43m(\u001b[49m\u001b[43mpred\u001b[49m\u001b[43m,\u001b[49m\u001b[43m \u001b[49m\u001b[43mmask\u001b[49m\u001b[43m)\u001b[49m \u001b[38;5;241m+\u001b[39m CE(pred, mask))\n\u001b[1;32m     11\u001b[0m     mask \u001b[38;5;241m=\u001b[39m pool(mask)\n\u001b[1;32m     12\u001b[0m     i \u001b[38;5;241m+\u001b[39m\u001b[38;5;241m=\u001b[39m \u001b[38;5;241m1\u001b[39m\n",
      "Cell \u001b[0;32mIn[6], line 22\u001b[0m, in \u001b[0;36msoft_dice_loss\u001b[0;34m(y_pred, y_true, axis, epsilon)\u001b[0m\n\u001b[1;32m      3\u001b[0m \u001b[38;5;250m\u001b[39m\u001b[38;5;124;03m\"\"\"\u001b[39;00m\n\u001b[1;32m      4\u001b[0m \u001b[38;5;124;03mCompute mean soft dice loss over all abnormality classes.\u001b[39;00m\n\u001b[1;32m      5\u001b[0m \n\u001b[0;32m   (...)\u001b[0m\n\u001b[1;32m     18\u001b[0m \u001b[38;5;124;03m    dice_loss (float): computed value of dice loss.     \u001b[39;00m\n\u001b[1;32m     19\u001b[0m \u001b[38;5;124;03m\"\"\"\u001b[39;00m\n\u001b[1;32m     21\u001b[0m \u001b[38;5;66;03m### START CODE HERE (REPLACE INSTANCES OF 'None' with your code) ###\u001b[39;00m\n\u001b[0;32m---> 22\u001b[0m dice_numerator \u001b[38;5;241m=\u001b[39m \u001b[38;5;241m2.\u001b[39m \u001b[38;5;241m*\u001b[39m \u001b[43mtorch\u001b[49m\u001b[38;5;241;43m.\u001b[39;49m\u001b[43msum\u001b[49m\u001b[43m(\u001b[49m\u001b[43my_true\u001b[49m\u001b[43m \u001b[49m\u001b[38;5;241;43m*\u001b[39;49m\u001b[43m \u001b[49m\u001b[43my_pred\u001b[49m\u001b[43m,\u001b[49m\u001b[43m \u001b[49m\u001b[43mdim\u001b[49m\u001b[38;5;241;43m=\u001b[39;49m\u001b[43maxis\u001b[49m\u001b[43m)\u001b[49m \u001b[38;5;241m+\u001b[39m epsilon\n\u001b[1;32m     23\u001b[0m dice_denominator \u001b[38;5;241m=\u001b[39m torch\u001b[38;5;241m.\u001b[39msum(y_true\u001b[38;5;241m*\u001b[39m\u001b[38;5;241m*\u001b[39m\u001b[38;5;241m2\u001b[39m, dim\u001b[38;5;241m=\u001b[39maxis) \u001b[38;5;241m+\u001b[39m torch\u001b[38;5;241m.\u001b[39msum(y_pred\u001b[38;5;241m*\u001b[39m\u001b[38;5;241m*\u001b[39m\u001b[38;5;241m2\u001b[39m, dim\u001b[38;5;241m=\u001b[39maxis) \u001b[38;5;241m+\u001b[39m epsilon\n\u001b[1;32m     24\u001b[0m dice_loss \u001b[38;5;241m=\u001b[39m \u001b[38;5;241m1\u001b[39m \u001b[38;5;241m-\u001b[39m torch\u001b[38;5;241m.\u001b[39mmean((dice_numerator)\u001b[38;5;241m/\u001b[39m(dice_denominator))\n",
      "\u001b[0;31mKeyboardInterrupt\u001b[0m: "
     ]
    }
   ],
   "source": [
    "train_factorizer(swin_factorizer, train, factorizer_loss, optimizer, num_epochs=50)"
   ]
  },
  {
   "cell_type": "code",
   "execution_count": null,
   "id": "ba154503",
   "metadata": {},
   "outputs": [],
   "source": [
    "def dice_coef(y_true, y_pred):\n",
    "    y_true_f = y_true.flatten()\n",
    "    y_pred_f = y_pred.flatten()\n",
    "    intersection = np.sum(y_true_f * y_pred_f)\n",
    "    smooth = 0.0001\n",
    "    return (2. * intersection + smooth) / (np.sum(y_true_f) + np.sum(y_pred_f) + smooth)\n",
    "\n",
    "def dice_coef_multilabel(y_true, y_pred, numLabels):\n",
    "    dice=[dice_coef(y_true[:,index,:,:], y_pred[:,index,:,:]) for index in range(numLabels)]\n",
    "    return (dice, np.sum(dice)/numLabels)\n"
   ]
  },
  {
   "cell_type": "code",
   "execution_count": null,
   "id": "cda96869",
   "metadata": {},
   "outputs": [
    {
     "data": {
      "text/plain": [
       "np.float64(1.0)"
      ]
     },
     "execution_count": 12,
     "metadata": {},
     "output_type": "execute_result"
    }
   ],
   "source": [
    "dice_coef(np.zeros((100,100)), np.zeros((100,100)))"
   ]
  },
  {
   "cell_type": "code",
   "execution_count": null,
   "id": "2154ab6d",
   "metadata": {},
   "outputs": [
    {
     "ename": "AttributeError",
     "evalue": "'list' object has no attribute 'dim'",
     "output_type": "error",
     "traceback": [
      "\u001b[0;31m---------------------------------------------------------------------------\u001b[0m",
      "\u001b[0;31mAttributeError\u001b[0m                            Traceback (most recent call last)",
      "Cell \u001b[0;32mIn[45], line 8\u001b[0m\n\u001b[1;32m      6\u001b[0m output \u001b[38;5;241m=\u001b[39m swin_factorizer(img)\n\u001b[1;32m      7\u001b[0m soft \u001b[38;5;241m=\u001b[39m torch\u001b[38;5;241m.\u001b[39mnn\u001b[38;5;241m.\u001b[39mSoftmax2d()\n\u001b[0;32m----> 8\u001b[0m output \u001b[38;5;241m=\u001b[39m \u001b[43msoft\u001b[49m\u001b[43m(\u001b[49m\u001b[43moutput\u001b[49m\u001b[43m)\u001b[49m\n\u001b[1;32m      9\u001b[0m output \u001b[38;5;241m=\u001b[39m output\u001b[38;5;241m.\u001b[39mdetach()\u001b[38;5;241m.\u001b[39mcpu()\u001b[38;5;241m.\u001b[39mnumpy()\n\u001b[1;32m     10\u001b[0m masks \u001b[38;5;241m=\u001b[39m masks\u001b[38;5;241m.\u001b[39mdetach()\u001b[38;5;241m.\u001b[39mcpu()\u001b[38;5;241m.\u001b[39mnumpy()\n",
      "File \u001b[0;32m~/Documents/Semiconductors/venv/lib/python3.12/site-packages/torch/nn/modules/module.py:1751\u001b[0m, in \u001b[0;36mModule._wrapped_call_impl\u001b[0;34m(self, *args, **kwargs)\u001b[0m\n\u001b[1;32m   1749\u001b[0m     \u001b[38;5;28;01mreturn\u001b[39;00m \u001b[38;5;28mself\u001b[39m\u001b[38;5;241m.\u001b[39m_compiled_call_impl(\u001b[38;5;241m*\u001b[39margs, \u001b[38;5;241m*\u001b[39m\u001b[38;5;241m*\u001b[39mkwargs)  \u001b[38;5;66;03m# type: ignore[misc]\u001b[39;00m\n\u001b[1;32m   1750\u001b[0m \u001b[38;5;28;01melse\u001b[39;00m:\n\u001b[0;32m-> 1751\u001b[0m     \u001b[38;5;28;01mreturn\u001b[39;00m \u001b[38;5;28;43mself\u001b[39;49m\u001b[38;5;241;43m.\u001b[39;49m\u001b[43m_call_impl\u001b[49m\u001b[43m(\u001b[49m\u001b[38;5;241;43m*\u001b[39;49m\u001b[43margs\u001b[49m\u001b[43m,\u001b[49m\u001b[43m \u001b[49m\u001b[38;5;241;43m*\u001b[39;49m\u001b[38;5;241;43m*\u001b[39;49m\u001b[43mkwargs\u001b[49m\u001b[43m)\u001b[49m\n",
      "File \u001b[0;32m~/Documents/Semiconductors/venv/lib/python3.12/site-packages/torch/nn/modules/module.py:1762\u001b[0m, in \u001b[0;36mModule._call_impl\u001b[0;34m(self, *args, **kwargs)\u001b[0m\n\u001b[1;32m   1757\u001b[0m \u001b[38;5;66;03m# If we don't have any hooks, we want to skip the rest of the logic in\u001b[39;00m\n\u001b[1;32m   1758\u001b[0m \u001b[38;5;66;03m# this function, and just call forward.\u001b[39;00m\n\u001b[1;32m   1759\u001b[0m \u001b[38;5;28;01mif\u001b[39;00m \u001b[38;5;129;01mnot\u001b[39;00m (\u001b[38;5;28mself\u001b[39m\u001b[38;5;241m.\u001b[39m_backward_hooks \u001b[38;5;129;01mor\u001b[39;00m \u001b[38;5;28mself\u001b[39m\u001b[38;5;241m.\u001b[39m_backward_pre_hooks \u001b[38;5;129;01mor\u001b[39;00m \u001b[38;5;28mself\u001b[39m\u001b[38;5;241m.\u001b[39m_forward_hooks \u001b[38;5;129;01mor\u001b[39;00m \u001b[38;5;28mself\u001b[39m\u001b[38;5;241m.\u001b[39m_forward_pre_hooks\n\u001b[1;32m   1760\u001b[0m         \u001b[38;5;129;01mor\u001b[39;00m _global_backward_pre_hooks \u001b[38;5;129;01mor\u001b[39;00m _global_backward_hooks\n\u001b[1;32m   1761\u001b[0m         \u001b[38;5;129;01mor\u001b[39;00m _global_forward_hooks \u001b[38;5;129;01mor\u001b[39;00m _global_forward_pre_hooks):\n\u001b[0;32m-> 1762\u001b[0m     \u001b[38;5;28;01mreturn\u001b[39;00m \u001b[43mforward_call\u001b[49m\u001b[43m(\u001b[49m\u001b[38;5;241;43m*\u001b[39;49m\u001b[43margs\u001b[49m\u001b[43m,\u001b[49m\u001b[43m \u001b[49m\u001b[38;5;241;43m*\u001b[39;49m\u001b[38;5;241;43m*\u001b[39;49m\u001b[43mkwargs\u001b[49m\u001b[43m)\u001b[49m\n\u001b[1;32m   1764\u001b[0m result \u001b[38;5;241m=\u001b[39m \u001b[38;5;28;01mNone\u001b[39;00m\n\u001b[1;32m   1765\u001b[0m called_always_called_hooks \u001b[38;5;241m=\u001b[39m \u001b[38;5;28mset\u001b[39m()\n",
      "File \u001b[0;32m~/Documents/Semiconductors/venv/lib/python3.12/site-packages/torch/nn/modules/activation.py:1701\u001b[0m, in \u001b[0;36mSoftmax2d.forward\u001b[0;34m(self, input)\u001b[0m\n\u001b[1;32m   1700\u001b[0m \u001b[38;5;28;01mdef\u001b[39;00m \u001b[38;5;21mforward\u001b[39m(\u001b[38;5;28mself\u001b[39m, \u001b[38;5;28minput\u001b[39m: Tensor) \u001b[38;5;241m-\u001b[39m\u001b[38;5;241m>\u001b[39m Tensor:\n\u001b[0;32m-> 1701\u001b[0m     \u001b[38;5;28;01mif\u001b[39;00m \u001b[38;5;28;43minput\u001b[39;49m\u001b[38;5;241;43m.\u001b[39;49m\u001b[43mdim\u001b[49m() \u001b[38;5;129;01mnot\u001b[39;00m \u001b[38;5;129;01min\u001b[39;00m (\u001b[38;5;241m3\u001b[39m, \u001b[38;5;241m4\u001b[39m):\n\u001b[1;32m   1702\u001b[0m         \u001b[38;5;28;01mraise\u001b[39;00m \u001b[38;5;167;01mValueError\u001b[39;00m(\n\u001b[1;32m   1703\u001b[0m             \u001b[38;5;124mf\u001b[39m\u001b[38;5;124m\"\u001b[39m\u001b[38;5;124mSoftmax2d: expected input to be 3D or 4D, got \u001b[39m\u001b[38;5;132;01m{\u001b[39;00m\u001b[38;5;28minput\u001b[39m\u001b[38;5;241m.\u001b[39mdim()\u001b[38;5;132;01m}\u001b[39;00m\u001b[38;5;124mD instead\u001b[39m\u001b[38;5;124m\"\u001b[39m\n\u001b[1;32m   1704\u001b[0m         )\n\u001b[1;32m   1705\u001b[0m     \u001b[38;5;28;01mreturn\u001b[39;00m F\u001b[38;5;241m.\u001b[39msoftmax(\u001b[38;5;28minput\u001b[39m, \u001b[38;5;241m-\u001b[39m\u001b[38;5;241m3\u001b[39m, _stacklevel\u001b[38;5;241m=\u001b[39m\u001b[38;5;241m5\u001b[39m)\n",
      "\u001b[0;31mAttributeError\u001b[0m: 'list' object has no attribute 'dim'"
     ]
    }
   ],
   "source": [
    "with torch.no_grad():\n",
    "    img, masks, mask = next(iter(test))\n",
    "    img = img.to(device)\n",
    "    masks = masks.to(device)\n",
    "    swin_factorizer.eval()\n",
    "    output = swin_factorizer(img)\n",
    "    soft = torch.nn.Softmax2d()\n",
    "    output = soft(output)\n",
    "    output = output.detach().cpu().numpy()\n",
    "    masks = masks.detach().cpu().numpy()\n",
    "    scores, overall_score = dice_coef_multilabel(output, masks, 6)\n",
    "    print(f'Dice Scores: {scores}')\n",
    "    print(f'Overall Dice Score: {overall_score}')\n",
    "    fig, axs = plt.subplots(5, 2)\n",
    "    fig.set_size_inches(12,12)\n",
    "    fig.tight_layout()\n",
    "    axs[0,0].set_title(\"Denoised and Quantized Image\")\n",
    "    axs[0,0].imshow(img[0].detach().cpu().numpy().transpose(1,2,0) / 255.0)\n",
    "    axs[0,1].set_title(\"Background Mask\")\n",
    "    axs[0,1].imshow(output[0][0], cmap='gray')\n",
    "    axs[1,0].set_title(\"Monolayer Mask\")\n",
    "    axs[1,0].imshow(output[0][1], cmap='gray')\n",
    "    axs[1,1].set_title(\"Bilayer Mask\")\n",
    "    axs[1,1].imshow(output[0][2], cmap='gray')\n",
    "    axs[2,0].set_title(\"Trilayer Mask\")\n",
    "    axs[2,0].imshow(output[0][3], cmap='gray')\n",
    "    axs[2,1].set_title(\"Four-layer Mask\")\n",
    "    axs[2,1].imshow(output[0][4], cmap='gray')\n",
    "    axs[3,0].set_title(\"Bulk Mask\")\n",
    "    axs[3,0].imshow(output[0][5], cmap='gray')\n",
    "    axs[3,1].set_title(\"Ground Truth\")\n",
    "    axs[3,1].imshow(mask[0].permute(1,2,0).detach().cpu().numpy()/255.0)\n",
    "    worst_mask = output[0][np.argmin(scores)]\n",
    "    corresponding_mask = masks[0][np.argmin(scores)]\n",
    "    axs[4,0].set_title(\"Worst Mask\")\n",
    "    axs[4,0].imshow(worst_mask, cmap='gray')\n",
    "    axs[4,1].set_title(\"Corresponding Mask\")\n",
    "    axs[4,1].imshow(corresponding_mask, cmap='gray')\n",
    "    plt.show()"
   ]
  },
  {
   "cell_type": "code",
   "execution_count": null,
   "id": "07b31f00",
   "metadata": {},
   "outputs": [],
   "source": [
    "color_mapping = {\n",
    "    0 : (0,0,0),\n",
    "    1 : (60, 28, 255),\n",
    "    2 : (73, 255, 52),\n",
    "    3: (255, 70, 70),\n",
    "    4: (7, 255, 251),\n",
    "    5: (88, 88, 88)\n",
    "}\n",
    "def assemble_image(segmented):\n",
    "    '''\n",
    "    Assemble segmented images from segmentation model's output\n",
    "\n",
    "    Args:\n",
    "        segmented (Pytorch tensor): (6,568,764) tensor that contains 6 binary masks, one for each class\n",
    "    '''\n",
    "    "
   ]
  }
 ],
 "metadata": {
  "kernelspec": {
   "display_name": "semiconductor_kernel",
   "language": "python",
   "name": "semiconductor_kernel"
  },
  "language_info": {
   "codemirror_mode": {
    "name": "ipython",
    "version": 3
   },
   "file_extension": ".py",
   "mimetype": "text/x-python",
   "name": "python",
   "nbconvert_exporter": "python",
   "pygments_lexer": "ipython3",
   "version": "3.12.4"
  }
 },
 "nbformat": 4,
 "nbformat_minor": 5
}
